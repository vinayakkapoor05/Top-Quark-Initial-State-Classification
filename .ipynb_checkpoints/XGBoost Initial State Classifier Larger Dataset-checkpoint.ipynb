{
 "cells": [
  {
   "cell_type": "code",
   "execution_count": 21,
   "id": "d90e6b71",
   "metadata": {},
   "outputs": [],
   "source": [
    "import matplotlib\n",
    "from matplotlib import pyplot as plt\n",
    "import torch\n",
    "import numpy as np\n",
    "import scipy\n",
    "import sklearn\n",
    "import sklearn.metrics\n",
    "import math\n",
    "import uproot\n",
    "import xgboost as xgb\n",
    "plt.rcParams.update({'font.family': 'serif', 'font.serif': ['Times New Roman']})\n"
   ]
  },
  {
   "cell_type": "code",
   "execution_count": 2,
   "id": "808dfd9f",
   "metadata": {},
   "outputs": [],
   "source": [
    "data = uproot.open(\"/Users/vinayakkapoor/Downloads/ee_modified_root_1_allorentz_gen.root\")"
   ]
  },
  {
   "cell_type": "code",
   "execution_count": 3,
   "id": "7e1b1109",
   "metadata": {},
   "outputs": [],
   "source": [
    "tree = data['ttBar_treeVariables_step8;21;1']"
   ]
  },
  {
   "cell_type": "code",
   "execution_count": 4,
   "id": "42d3b230",
   "metadata": {},
   "outputs": [],
   "source": [
    "ones_mask = tree['production_mode'].array(library='numpy') == 1\n",
    "zeros_mask = tree['production_mode'].array(library='numpy') == 0"
   ]
  },
  {
   "cell_type": "code",
   "execution_count": 5,
   "id": "197e60d5",
   "metadata": {},
   "outputs": [],
   "source": [
    "X_ones = torch.cat([torch.from_numpy(tree[key].array(library='numpy')[ones_mask][:, None]).float() for key in tree.keys() if (key != 'production_mode' and key != 'eventWeight' and key != '__index__')], dim=1) \n",
    "\n",
    "X_zeros = torch.cat([torch.from_numpy(tree[key].array(library='numpy')[zeros_mask][:, None]).float() for key in tree.keys() if (key != 'production_mode' and key != 'eventWeight' and key != '__index__')], dim=1) \n"
   ]
  },
  {
   "cell_type": "code",
   "execution_count": 6,
   "id": "0dc64050",
   "metadata": {},
   "outputs": [],
   "source": [
    "train_split = 0.7 # 70% of the data is training\n",
    "valid_split = 0.2 # 20% of the data is validation\n",
    "test_split = 0.1 # 10% of the data is testing\n",
    "\n",
    "num_ones = len(X_ones) # calculate total number of data points with class labels = 1\n",
    "num_zeros = len(X_zeros) # calculate total number of data points with class labels = 0\n",
    "\n",
    "# split the data into training data\n",
    "training_data = torch.cat((X_ones[:math.ceil(num_ones * train_split)], X_zeros[:math.ceil(num_zeros * train_split)]))\n",
    "# split the labels for just training data\n",
    "training_labels = torch.cat((torch.ones(math.ceil(num_ones * train_split)), torch.zeros(math.ceil(num_zeros * train_split))))\n",
    "\n",
    "# split the data into validation data\n",
    "validation_data = torch.cat((X_ones[math.ceil(num_ones * train_split):math.ceil(num_ones * (train_split + valid_split))],\n",
    "                             X_zeros[math.ceil(num_zeros * train_split):math.ceil(num_zeros * (train_split + valid_split))]))\n",
    "validation_labels = torch.cat((torch.ones(math.ceil(num_ones * valid_split)), torch.zeros(math.ceil(num_zeros * valid_split))))\n",
    "\n",
    "# split the data into testing data\n",
    "test_data = torch.cat((X_ones[math.ceil(num_ones * (train_split + valid_split)):],\n",
    "                      X_zeros[math.ceil(num_zeros * (train_split + valid_split)):]))\n",
    "test_labels = torch.cat((torch.ones(len(X_ones[math.ceil(num_ones * (train_split + valid_split)):])),\n",
    "                        torch.zeros(len(X_zeros[math.ceil(num_zeros * (train_split + valid_split)):]))))"
   ]
  },
  {
   "cell_type": "code",
   "execution_count": 7,
   "id": "fcf30267",
   "metadata": {},
   "outputs": [],
   "source": [
    "num_ones_in_training = int(train_split * num_ones)\n",
    "num_zeros_in_training = int(train_split * num_zeros)\n",
    "\n",
    "# upsample the training data\n",
    "if num_ones_in_training > num_zeros_in_training: # need to upsample the zeros\n",
    "    multiplicity = math.ceil(num_ones_in_training / num_zeros_in_training)\n",
    "    \n",
    "    training_data = torch.cat((training_data[training_labels == 1], training_data[training_labels == 0].repeat(multiplicity, 1)[:num_ones_in_training]))\n",
    "    training_labels = torch.cat((training_labels[training_labels == 1][:num_zeros_in_training], training_labels[training_labels == 0].repeat(multiplicity)[:num_ones_in_training]))\n",
    "elif num_zeros_in_training > num_ones_in_training: # need to upsample the ones\n",
    "    multiplicity = math.ceil(num_zeros_in_training / num_ones_in_training)\n",
    "    \n",
    "    training_data = torch.cat((training_data[training_labels == 1].repeat(multiplicity, 1)[:num_zeros_in_training], training_data[training_labels == 0]))\n",
    "    training_labels = torch.cat((training_labels[training_labels == 1].repeat(multiplicity)[:num_zeros_in_training], training_labels[training_labels == 0]))"
   ]
  },
  {
   "cell_type": "code",
   "execution_count": 8,
   "id": "5876531e",
   "metadata": {},
   "outputs": [],
   "source": [
    "num_ones_in_validation = len(validation_labels[validation_labels == 1])\n",
    "num_zeros_in_validation = len(validation_labels[validation_labels == 0])\n",
    "\n",
    "# upsample the validation data\n",
    "if num_ones_in_validation > num_zeros_in_validation: # need to upsample the zeros\n",
    "    multiplicity = math.ceil(num_ones_in_validation / num_zeros_in_validation)\n",
    "    \n",
    "    validation_data = torch.cat((validation_data[validation_labels == 1], validation_data[validation_labels == 0].repeat(multiplicity, 1)[:num_ones_in_validation]))\n",
    "    validation_labels = torch.cat((validation_labels[validation_labels == 1][:num_zeros_in_validation], validation_labels[validation_labels == 0].repeat(multiplicity)[:num_ones_in_validation]))\n",
    "elif num_zeros_in_validation > num_ones_in_validation: # need to upsample the ones\n",
    "    multiplicity = math.ceil(num_zeros_in_validation / num_ones_in_validation)\n",
    "    \n",
    "    validation_data = torch.cat((validation_data[validation_labels == 1].repeat(multiplicity, 1)[:num_zeros_in_validation], validation_data[validation_labels == 0]))\n",
    "    validation_labels = torch.cat((validation_labels[validation_labels == 1].repeat(multiplicity)[:num_zeros_in_validation], validation_labels[validation_labels == 0]))"
   ]
  },
  {
   "cell_type": "code",
   "execution_count": 9,
   "id": "33fd92fe",
   "metadata": {},
   "outputs": [],
   "source": [
    "# standardize the data\n",
    "standardized_training_data = (training_data - torch.mean(training_data, 0)) / torch.std(training_data, 0, True)\n",
    "standardized_validation_data = (validation_data - torch.mean(validation_data, 0)) / torch.std(validation_data, 0, True)\n",
    "standardized_testing_data = (test_data - torch.mean(test_data, 0)) / torch.std(test_data, 0, True)\n",
    "\n",
    "# replace nans with 0 for zero width values\n",
    "standardized_training_data = torch.nan_to_num(standardized_training_data, nan=0.0, posinf=0.0, neginf=0.0)\n",
    "standardized_validation_data = torch.nan_to_num(standardized_validation_data, nan=0.0, posinf=0.0, neginf=0.0)\n",
    "standardized_testing_data = torch.nan_to_num(standardized_testing_data, nan=0.0, posinf=0.0, neginf=0.0)"
   ]
  },
  {
   "cell_type": "code",
   "execution_count": 10,
   "id": "85ec58bc",
   "metadata": {},
   "outputs": [
    {
     "data": {
      "text/plain": [
       "tensor([[ 0.4014,  0.6933,  0.9107,  ..., -0.5384,  0.0983, -0.3040],\n",
       "        [ 1.1272,  0.4029, -0.3414,  ..., -0.4115,  0.0184, -0.2655],\n",
       "        [ 0.6246,  0.5653, -0.9667,  ..., -1.1511,  0.0178, -0.1903],\n",
       "        ...,\n",
       "        [ 0.4862,  1.5237, -0.0232,  ...,  1.1309,  1.0145,  0.3963],\n",
       "        [-1.6855,  0.7307,  1.0934,  ...,  0.2160,  0.0560, -0.0514],\n",
       "        [-0.6722, -1.7729,  1.7117,  ...,  0.0703, -0.4144,  0.0166]])"
      ]
     },
     "execution_count": 10,
     "metadata": {},
     "output_type": "execute_result"
    }
   ],
   "source": [
    "standardized_training_data"
   ]
  },
  {
   "cell_type": "code",
   "execution_count": 11,
   "id": "99f67a51",
   "metadata": {},
   "outputs": [
    {
     "data": {
      "text/plain": [
       "tensor([[ 0.4014,  0.6933,  0.9107,  ..., -0.5384,  0.0983, -0.3040],\n",
       "        [ 1.1272,  0.4029, -0.3414,  ..., -0.4115,  0.0184, -0.2655],\n",
       "        [ 0.6246,  0.5653, -0.9667,  ..., -1.1511,  0.0178, -0.1903],\n",
       "        ...,\n",
       "        [ 0.4862,  1.5237, -0.0232,  ...,  1.1309,  1.0145,  0.3963],\n",
       "        [-1.6855,  0.7307,  1.0934,  ...,  0.2160,  0.0560, -0.0514],\n",
       "        [-0.6722, -1.7729,  1.7117,  ...,  0.0703, -0.4144,  0.0166]])"
      ]
     },
     "execution_count": 11,
     "metadata": {},
     "output_type": "execute_result"
    }
   ],
   "source": [
    "standardized_training_data"
   ]
  },
  {
   "cell_type": "code",
   "execution_count": 12,
   "id": "776c9fd0",
   "metadata": {},
   "outputs": [
    {
     "name": "stderr",
     "output_type": "stream",
     "text": [
      "/Users/vinayakkapoor/opt/anaconda3/lib/python3.9/site-packages/xgboost/sklearn.py:1224: UserWarning: The use of label encoder in XGBClassifier is deprecated and will be removed in a future release. To remove this warning, do the following: 1) Pass option use_label_encoder=False when constructing XGBClassifier object; and 2) Encode your labels (y) as integers starting with 0, i.e. 0, 1, 2, ..., [num_class - 1].\n",
      "  warnings.warn(label_encoder_deprecation_msg, UserWarning)\n"
     ]
    },
    {
     "name": "stdout",
     "output_type": "stream",
     "text": [
      "[20:45:48] WARNING: /var/folders/sy/f16zz6x50xz3113nwtb9bvq00000gp/T/abs_44tbtwf8c1/croots/recipe/xgboost-split_1659548960882/work/src/learner.cc:1115: Starting in XGBoost 1.3.0, the default evaluation metric used with the objective 'binary:logistic' was changed from 'error' to 'logloss'. Explicitly set eval_metric if you'd like to restore the old behavior.\n"
     ]
    },
    {
     "data": {
      "text/plain": [
       "XGBClassifier(base_score=0.5, booster='gbtree', colsample_bylevel=1,\n",
       "              colsample_bynode=1, colsample_bytree=1, enable_categorical=False,\n",
       "              gamma=0, gpu_id=-1, importance_type=None,\n",
       "              interaction_constraints='', learning_rate=0.300000012,\n",
       "              max_delta_step=0, max_depth=6, min_child_weight=1, missing=nan,\n",
       "              monotone_constraints='()', n_estimators=100, n_jobs=8,\n",
       "              num_parallel_tree=1, predictor='auto', random_state=0,\n",
       "              reg_alpha=0, reg_lambda=1, scale_pos_weight=1, subsample=1,\n",
       "              tree_method='exact', validate_parameters=1, verbosity=None)"
      ]
     },
     "execution_count": 12,
     "metadata": {},
     "output_type": "execute_result"
    }
   ],
   "source": [
    "import xgboost as xgb\n",
    "from sklearn.metrics import roc_auc_score,roc_curve\n",
    "import matplotlib.pyplot as plt\n",
    "\n",
    "\n",
    "xgb_model = xgb.XGBClassifier(objective=\"binary:logistic\", random_state=0,max_depth=6)\n",
    "xgb_model.fit(standardized_training_data, training_labels)"
   ]
  },
  {
   "cell_type": "code",
   "execution_count": 13,
   "id": "75a8ff8d",
   "metadata": {},
   "outputs": [],
   "source": [
    "\n",
    "# Make predictions on the test set\n",
    "y_pred_proba = xgb_model.predict_proba(standardized_testing_data)[:,1]\n",
    "\n",
    "# Calculate the AUC\n",
    "auc = roc_auc_score(test_labels, y_pred_proba)"
   ]
  },
  {
   "cell_type": "code",
   "execution_count": 29,
   "id": "f242c9fd",
   "metadata": {},
   "outputs": [
    {
     "data": {
      "image/png": "[encoded data removed]",
      "text/plain": [
       "<Figure size 640x480 with 1 Axes>"
      ]
     },
     "metadata": {},
     "output_type": "display_data"
    }
   ],
   "source": [
    "# Plot the ROC curve\n",
    "fpr, tpr, thresholds = roc_curve(test_labels, y_pred_proba,)\n",
    "fig, ax = plt.subplots()\n",
    "ax.plot(fpr, tpr, 'black')\n",
    "ax.grid(linestyle='--', linewidth='0.5', color='gray', alpha=0.7)\n",
    "\n",
    "ax.set_xlabel('False Positive Rate', fontsize=12)\n",
    "ax.set_ylabel('True Positive Rate', fontsize=12)\n",
    "\n",
    "ax.set_title('ROC Curve', fontsize=14)\n",
    "\n",
    "# Show the plot\n",
    "plt.show()\n"
   ]
  },
  {
   "cell_type": "code",
   "execution_count": 15,
   "id": "28df827b",
   "metadata": {},
   "outputs": [
    {
     "data": {
      "text/plain": [
       "0.6925726678036424"
      ]
     },
     "execution_count": 15,
     "metadata": {},
     "output_type": "execute_result"
    }
   ],
   "source": [
    "auc"
   ]
  },
  {
   "cell_type": "code",
   "execution_count": 30,
   "id": "f90ccddd",
   "metadata": {},
   "outputs": [
    {
     "name": "stderr",
     "output_type": "stream",
     "text": [
      "/Users/vinayakkapoor/opt/anaconda3/lib/python3.9/site-packages/xgboost/sklearn.py:1224: UserWarning: The use of label encoder in XGBClassifier is deprecated and will be removed in a future release. To remove this warning, do the following: 1) Pass option use_label_encoder=False when constructing XGBClassifier object; and 2) Encode your labels (y) as integers starting with 0, i.e. 0, 1, 2, ..., [num_class - 1].\n",
      "  warnings.warn(label_encoder_deprecation_msg, UserWarning)\n"
     ]
    },
    {
     "name": "stdout",
     "output_type": "stream",
     "text": [
      "[20:52:45] WARNING: /var/folders/sy/f16zz6x50xz3113nwtb9bvq00000gp/T/abs_44tbtwf8c1/croots/recipe/xgboost-split_1659548960882/work/src/learner.cc:1115: Starting in XGBoost 1.3.0, the default evaluation metric used with the objective 'binary:logistic' was changed from 'error' to 'logloss'. Explicitly set eval_metric if you'd like to restore the old behavior.\n"
     ]
    },
    {
     "data": {
      "text/plain": [
       "XGBClassifier(base_score=0.5, booster='gbtree', colsample_bylevel=1,\n",
       "              colsample_bynode=1, colsample_bytree=1, enable_categorical=False,\n",
       "              gamma=0, gpu_id=-1, importance_type=None,\n",
       "              interaction_constraints='', learning_rate=0.300000012,\n",
       "              max_delta_step=0, max_depth=6, min_child_weight=1, missing=nan,\n",
       "              monotone_constraints='()', n_estimators=100, n_jobs=8,\n",
       "              num_parallel_tree=1, predictor='auto', random_state=0,\n",
       "              reg_alpha=0, reg_lambda=1, scale_pos_weight=1, subsample=1,\n",
       "              tree_method='exact', validate_parameters=1, verbosity=None)"
      ]
     },
     "execution_count": 30,
     "metadata": {},
     "output_type": "execute_result"
    }
   ],
   "source": [
    "from sklearn.model_selection import GridSearchCV\n",
    "import xgboost as xgb\n",
    "\n",
    "# Define the parameter grid\n",
    "param_grid = {\n",
    "    'max_depth': [3, 4, 5],\n",
    "    'learning_rate': [0.1, 0.05,0.01],\n",
    "    #learning rate increase exponentially \n",
    "    'n_estimators': [100, 200,300],\n",
    "    #'subsample': [0.8, 1],\n",
    "    #'colsample_bytree': [0.8, 1],\n",
    "    'reg_alpha': [0.1, 1, 10],\n",
    "}\n",
    "#lasso\n",
    "\n",
    "# Create the XGBoost model\n",
    "xgb_model = xgb.XGBClassifier(objective=\"binary:logistic\")\n",
    "\n",
    "# Create the grid search object\n",
    "grid_search = GridSearchCV(xgb_model, param_grid, cv=5, scoring='roc_auc', n_jobs=-1)\n",
    "\n",
    "# Fit the grid search to the data\n",
    "xgb_model.fit(standardized_training_data, training_labels)"
   ]
  },
  {
   "cell_type": "code",
   "execution_count": null,
   "id": "6bd6f005",
   "metadata": {},
   "outputs": [
    {
     "name": "stderr",
     "output_type": "stream",
     "text": [
      "/Users/vinayakkapoor/opt/anaconda3/lib/python3.9/site-packages/xgboost/compat.py:36: FutureWarning: pandas.Int64Index is deprecated and will be removed from pandas in a future version. Use pandas.Index with the appropriate dtype instead.\n",
      "  from pandas import MultiIndex, Int64Index\n",
      "/Users/vinayakkapoor/opt/anaconda3/lib/python3.9/site-packages/xgboost/compat.py:36: FutureWarning: pandas.Int64Index is deprecated and will be removed from pandas in a future version. Use pandas.Index with the appropriate dtype instead.\n",
      "  from pandas import MultiIndex, Int64Index\n",
      "/Users/vinayakkapoor/opt/anaconda3/lib/python3.9/site-packages/xgboost/compat.py:36: FutureWarning: pandas.Int64Index is deprecated and will be removed from pandas in a future version. Use pandas.Index with the appropriate dtype instead.\n",
      "  from pandas import MultiIndex, Int64Index\n",
      "/Users/vinayakkapoor/opt/anaconda3/lib/python3.9/site-packages/xgboost/compat.py:36: FutureWarning: pandas.Int64Index is deprecated and will be removed from pandas in a future version. Use pandas.Index with the appropriate dtype instead.\n",
      "  from pandas import MultiIndex, Int64Index\n",
      "/Users/vinayakkapoor/opt/anaconda3/lib/python3.9/site-packages/xgboost/compat.py:36: FutureWarning: pandas.Int64Index is deprecated and will be removed from pandas in a future version. Use pandas.Index with the appropriate dtype instead.\n",
      "  from pandas import MultiIndex, Int64Index\n",
      "/Users/vinayakkapoor/opt/anaconda3/lib/python3.9/site-packages/xgboost/compat.py:36: FutureWarning: pandas.Int64Index is deprecated and will be removed from pandas in a future version. Use pandas.Index with the appropriate dtype instead.\n",
      "  from pandas import MultiIndex, Int64Index\n",
      "/Users/vinayakkapoor/opt/anaconda3/lib/python3.9/site-packages/xgboost/compat.py:36: FutureWarning: pandas.Int64Index is deprecated and will be removed from pandas in a future version. Use pandas.Index with the appropriate dtype instead.\n",
      "  from pandas import MultiIndex, Int64Index\n",
      "/Users/vinayakkapoor/opt/anaconda3/lib/python3.9/site-packages/xgboost/compat.py:36: FutureWarning: pandas.Int64Index is deprecated and will be removed from pandas in a future version. Use pandas.Index with the appropriate dtype instead.\n",
      "  from pandas import MultiIndex, Int64Index\n",
      "/Users/vinayakkapoor/opt/anaconda3/lib/python3.9/site-packages/sklearn/utils/__init__.py:202: UserWarning: The given NumPy array is not writable, and PyTorch does not support non-writable tensors. This means writing to this tensor will result in undefined behavior. You may want to copy the array to protect its data or make it writable before converting it to a tensor. This type of warning will be suppressed for the rest of this program. (Triggered internally at  /private/var/folders/sy/f16zz6x50xz3113nwtb9bvq00000gp/T/abs_64sp5n4yln/croot/pytorch_1669252639708/work/torch/csrc/utils/tensor_numpy.cpp:178.)\n",
      "  return array[key] if axis == 0 else array[:, key]\n",
      "/Users/vinayakkapoor/opt/anaconda3/lib/python3.9/site-packages/sklearn/utils/__init__.py:202: UserWarning: The given NumPy array is not writable, and PyTorch does not support non-writable tensors. This means writing to this tensor will result in undefined behavior. You may want to copy the array to protect its data or make it writable before converting it to a tensor. This type of warning will be suppressed for the rest of this program. (Triggered internally at  /private/var/folders/sy/f16zz6x50xz3113nwtb9bvq00000gp/T/abs_64sp5n4yln/croot/pytorch_1669252639708/work/torch/csrc/utils/tensor_numpy.cpp:178.)\n",
      "  return array[key] if axis == 0 else array[:, key]\n",
      "/Users/vinayakkapoor/opt/anaconda3/lib/python3.9/site-packages/sklearn/utils/__init__.py:202: UserWarning: The given NumPy array is not writable, and PyTorch does not support non-writable tensors. This means writing to this tensor will result in undefined behavior. You may want to copy the array to protect its data or make it writable before converting it to a tensor. This type of warning will be suppressed for the rest of this program. (Triggered internally at  /private/var/folders/sy/f16zz6x50xz3113nwtb9bvq00000gp/T/abs_64sp5n4yln/croot/pytorch_1669252639708/work/torch/csrc/utils/tensor_numpy.cpp:178.)\n",
      "  return array[key] if axis == 0 else array[:, key]\n",
      "/Users/vinayakkapoor/opt/anaconda3/lib/python3.9/site-packages/sklearn/utils/__init__.py:202: UserWarning: The given NumPy array is not writable, and PyTorch does not support non-writable tensors. This means writing to this tensor will result in undefined behavior. You may want to copy the array to protect its data or make it writable before converting it to a tensor. This type of warning will be suppressed for the rest of this program. (Triggered internally at  /private/var/folders/sy/f16zz6x50xz3113nwtb9bvq00000gp/T/abs_64sp5n4yln/croot/pytorch_1669252639708/work/torch/csrc/utils/tensor_numpy.cpp:178.)\n",
      "  return array[key] if axis == 0 else array[:, key]\n",
      "/Users/vinayakkapoor/opt/anaconda3/lib/python3.9/site-packages/sklearn/utils/__init__.py:202: UserWarning: The given NumPy array is not writable, and PyTorch does not support non-writable tensors. This means writing to this tensor will result in undefined behavior. You may want to copy the array to protect its data or make it writable before converting it to a tensor. This type of warning will be suppressed for the rest of this program. (Triggered internally at  /private/var/folders/sy/f16zz6x50xz3113nwtb9bvq00000gp/T/abs_64sp5n4yln/croot/pytorch_1669252639708/work/torch/csrc/utils/tensor_numpy.cpp:178.)\n",
      "  return array[key] if axis == 0 else array[:, key]\n",
      "/Users/vinayakkapoor/opt/anaconda3/lib/python3.9/site-packages/sklearn/utils/__init__.py:202: UserWarning: The given NumPy array is not writable, and PyTorch does not support non-writable tensors. This means writing to this tensor will result in undefined behavior. You may want to copy the array to protect its data or make it writable before converting it to a tensor. This type of warning will be suppressed for the rest of this program. (Triggered internally at  /private/var/folders/sy/f16zz6x50xz3113nwtb9bvq00000gp/T/abs_64sp5n4yln/croot/pytorch_1669252639708/work/torch/csrc/utils/tensor_numpy.cpp:178.)\n",
      "  return array[key] if axis == 0 else array[:, key]\n",
      "/Users/vinayakkapoor/opt/anaconda3/lib/python3.9/site-packages/sklearn/utils/__init__.py:202: UserWarning: The given NumPy array is not writable, and PyTorch does not support non-writable tensors. This means writing to this tensor will result in undefined behavior. You may want to copy the array to protect its data or make it writable before converting it to a tensor. This type of warning will be suppressed for the rest of this program. (Triggered internally at  /private/var/folders/sy/f16zz6x50xz3113nwtb9bvq00000gp/T/abs_64sp5n4yln/croot/pytorch_1669252639708/work/torch/csrc/utils/tensor_numpy.cpp:178.)\n",
      "  return array[key] if axis == 0 else array[:, key]\n",
      "/Users/vinayakkapoor/opt/anaconda3/lib/python3.9/site-packages/sklearn/utils/__init__.py:202: UserWarning: The given NumPy array is not writable, and PyTorch does not support non-writable tensors. This means writing to this tensor will result in undefined behavior. You may want to copy the array to protect its data or make it writable before converting it to a tensor. This type of warning will be suppressed for the rest of this program. (Triggered internally at  /private/var/folders/sy/f16zz6x50xz3113nwtb9bvq00000gp/T/abs_64sp5n4yln/croot/pytorch_1669252639708/work/torch/csrc/utils/tensor_numpy.cpp:178.)\n",
      "  return array[key] if axis == 0 else array[:, key]\n",
      "/Users/vinayakkapoor/opt/anaconda3/lib/python3.9/site-packages/xgboost/sklearn.py:1224: UserWarning: The use of label encoder in XGBClassifier is deprecated and will be removed in a future release. To remove this warning, do the following: 1) Pass option use_label_encoder=False when constructing XGBClassifier object; and 2) Encode your labels (y) as integers starting with 0, i.e. 0, 1, 2, ..., [num_class - 1].\n",
      "  warnings.warn(label_encoder_deprecation_msg, UserWarning)\n",
      "/Users/vinayakkapoor/opt/anaconda3/lib/python3.9/site-packages/xgboost/sklearn.py:1224: UserWarning: The use of label encoder in XGBClassifier is deprecated and will be removed in a future release. To remove this warning, do the following: 1) Pass option use_label_encoder=False when constructing XGBClassifier object; and 2) Encode your labels (y) as integers starting with 0, i.e. 0, 1, 2, ..., [num_class - 1].\n",
      "  warnings.warn(label_encoder_deprecation_msg, UserWarning)\n",
      "/Users/vinayakkapoor/opt/anaconda3/lib/python3.9/site-packages/xgboost/sklearn.py:1224: UserWarning: The use of label encoder in XGBClassifier is deprecated and will be removed in a future release. To remove this warning, do the following: 1) Pass option use_label_encoder=False when constructing XGBClassifier object; and 2) Encode your labels (y) as integers starting with 0, i.e. 0, 1, 2, ..., [num_class - 1].\n",
      "  warnings.warn(label_encoder_deprecation_msg, UserWarning)\n",
      "/Users/vinayakkapoor/opt/anaconda3/lib/python3.9/site-packages/xgboost/sklearn.py:1224: UserWarning: The use of label encoder in XGBClassifier is deprecated and will be removed in a future release. To remove this warning, do the following: 1) Pass option use_label_encoder=False when constructing XGBClassifier object; and 2) Encode your labels (y) as integers starting with 0, i.e. 0, 1, 2, ..., [num_class - 1].\n",
      "  warnings.warn(label_encoder_deprecation_msg, UserWarning)\n",
      "/Users/vinayakkapoor/opt/anaconda3/lib/python3.9/site-packages/xgboost/sklearn.py:1224: UserWarning: The use of label encoder in XGBClassifier is deprecated and will be removed in a future release. To remove this warning, do the following: 1) Pass option use_label_encoder=False when constructing XGBClassifier object; and 2) Encode your labels (y) as integers starting with 0, i.e. 0, 1, 2, ..., [num_class - 1].\n",
      "  warnings.warn(label_encoder_deprecation_msg, UserWarning)\n",
      "/Users/vinayakkapoor/opt/anaconda3/lib/python3.9/site-packages/xgboost/sklearn.py:1224: UserWarning: The use of label encoder in XGBClassifier is deprecated and will be removed in a future release. To remove this warning, do the following: 1) Pass option use_label_encoder=False when constructing XGBClassifier object; and 2) Encode your labels (y) as integers starting with 0, i.e. 0, 1, 2, ..., [num_class - 1].\n",
      "  warnings.warn(label_encoder_deprecation_msg, UserWarning)\n",
      "/Users/vinayakkapoor/opt/anaconda3/lib/python3.9/site-packages/xgboost/sklearn.py:1224: UserWarning: The use of label encoder in XGBClassifier is deprecated and will be removed in a future release. To remove this warning, do the following: 1) Pass option use_label_encoder=False when constructing XGBClassifier object; and 2) Encode your labels (y) as integers starting with 0, i.e. 0, 1, 2, ..., [num_class - 1].\n",
      "  warnings.warn(label_encoder_deprecation_msg, UserWarning)\n",
      "/Users/vinayakkapoor/opt/anaconda3/lib/python3.9/site-packages/xgboost/sklearn.py:1224: UserWarning: The use of label encoder in XGBClassifier is deprecated and will be removed in a future release. To remove this warning, do the following: 1) Pass option use_label_encoder=False when constructing XGBClassifier object; and 2) Encode your labels (y) as integers starting with 0, i.e. 0, 1, 2, ..., [num_class - 1].\n",
      "  warnings.warn(label_encoder_deprecation_msg, UserWarning)\n"
     ]
    },
    {
     "name": "stderr",
     "output_type": "stream",
     "text": [
      "/Users/vinayakkapoor/opt/anaconda3/lib/python3.9/site-packages/xgboost/sklearn.py:1224: UserWarning: The use of label encoder in XGBClassifier is deprecated and will be removed in a future release. To remove this warning, do the following: 1) Pass option use_label_encoder=False when constructing XGBClassifier object; and 2) Encode your labels (y) as integers starting with 0, i.e. 0, 1, 2, ..., [num_class - 1].\n",
      "  warnings.warn(label_encoder_deprecation_msg, UserWarning)\n",
      "/Users/vinayakkapoor/opt/anaconda3/lib/python3.9/site-packages/xgboost/sklearn.py:1224: UserWarning: The use of label encoder in XGBClassifier is deprecated and will be removed in a future release. To remove this warning, do the following: 1) Pass option use_label_encoder=False when constructing XGBClassifier object; and 2) Encode your labels (y) as integers starting with 0, i.e. 0, 1, 2, ..., [num_class - 1].\n",
      "  warnings.warn(label_encoder_deprecation_msg, UserWarning)\n",
      "/Users/vinayakkapoor/opt/anaconda3/lib/python3.9/site-packages/xgboost/sklearn.py:1224: UserWarning: The use of label encoder in XGBClassifier is deprecated and will be removed in a future release. To remove this warning, do the following: 1) Pass option use_label_encoder=False when constructing XGBClassifier object; and 2) Encode your labels (y) as integers starting with 0, i.e. 0, 1, 2, ..., [num_class - 1].\n",
      "  warnings.warn(label_encoder_deprecation_msg, UserWarning)\n",
      "/Users/vinayakkapoor/opt/anaconda3/lib/python3.9/site-packages/xgboost/sklearn.py:1224: UserWarning: The use of label encoder in XGBClassifier is deprecated and will be removed in a future release. To remove this warning, do the following: 1) Pass option use_label_encoder=False when constructing XGBClassifier object; and 2) Encode your labels (y) as integers starting with 0, i.e. 0, 1, 2, ..., [num_class - 1].\n",
      "  warnings.warn(label_encoder_deprecation_msg, UserWarning)\n",
      "/Users/vinayakkapoor/opt/anaconda3/lib/python3.9/site-packages/xgboost/sklearn.py:1224: UserWarning: The use of label encoder in XGBClassifier is deprecated and will be removed in a future release. To remove this warning, do the following: 1) Pass option use_label_encoder=False when constructing XGBClassifier object; and 2) Encode your labels (y) as integers starting with 0, i.e. 0, 1, 2, ..., [num_class - 1].\n",
      "  warnings.warn(label_encoder_deprecation_msg, UserWarning)\n",
      "/Users/vinayakkapoor/opt/anaconda3/lib/python3.9/site-packages/xgboost/sklearn.py:1224: UserWarning: The use of label encoder in XGBClassifier is deprecated and will be removed in a future release. To remove this warning, do the following: 1) Pass option use_label_encoder=False when constructing XGBClassifier object; and 2) Encode your labels (y) as integers starting with 0, i.e. 0, 1, 2, ..., [num_class - 1].\n",
      "  warnings.warn(label_encoder_deprecation_msg, UserWarning)\n",
      "/Users/vinayakkapoor/opt/anaconda3/lib/python3.9/site-packages/xgboost/sklearn.py:1224: UserWarning: The use of label encoder in XGBClassifier is deprecated and will be removed in a future release. To remove this warning, do the following: 1) Pass option use_label_encoder=False when constructing XGBClassifier object; and 2) Encode your labels (y) as integers starting with 0, i.e. 0, 1, 2, ..., [num_class - 1].\n",
      "  warnings.warn(label_encoder_deprecation_msg, UserWarning)\n",
      "/Users/vinayakkapoor/opt/anaconda3/lib/python3.9/site-packages/xgboost/sklearn.py:1224: UserWarning: The use of label encoder in XGBClassifier is deprecated and will be removed in a future release. To remove this warning, do the following: 1) Pass option use_label_encoder=False when constructing XGBClassifier object; and 2) Encode your labels (y) as integers starting with 0, i.e. 0, 1, 2, ..., [num_class - 1].\n",
      "  warnings.warn(label_encoder_deprecation_msg, UserWarning)\n"
     ]
    }
   ],
   "source": [
    "grid_search.fit(standardized_training_data, training_labels)\n",
    "print(\"Best parameters:\", grid_search.best_params_)\n",
    "print(\"Best AUC-ROC score:\", grid_search.best_score_)"
   ]
  },
  {
   "cell_type": "code",
   "execution_count": null,
   "id": "0bf5e0d4",
   "metadata": {},
   "outputs": [],
   "source": [
    "#save intermediate results \n",
    "#save model, predictions\n",
    "#save training loss\n",
    "#repeat gridsearch\n"
   ]
  },
  {
   "cell_type": "code",
   "execution_count": null,
   "id": "75d8a28c",
   "metadata": {},
   "outputs": [],
   "source": []
  }
 ],
 "metadata": {
  "kernelspec": {
   "display_name": "Python 3 (ipykernel)",
   "language": "python",
   "name": "python3"
  },
  "language_info": {
   "codemirror_mode": {
    "name": "ipython",
    "version": 3
   },
   "file_extension": ".py",
   "mimetype": "text/x-python",
   "name": "python",
   "nbconvert_exporter": "python",
   "pygments_lexer": "ipython3",
   "version": "3.9.15"
  }
 },
 "nbformat": 4,
 "nbformat_minor": 5
}
